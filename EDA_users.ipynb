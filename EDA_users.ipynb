{
 "cells": [
  {
   "cell_type": "markdown",
   "metadata": {},
   "source": [
    "# Librerías"
   ]
  },
  {
   "cell_type": "code",
   "execution_count": 24,
   "metadata": {},
   "outputs": [],
   "source": [
    "import pandas as pd\n",
    "import re\n",
    "from datetime import datetime\n",
    "\n",
    "# visualización\n",
    "import plotly.express as px\n",
    "from plotly.subplots import make_subplots\n",
    "import plotly.graph_objects as go\n",
    "\n",
    "from IPython.display import Image"
   ]
  },
  {
   "cell_type": "markdown",
   "metadata": {},
   "source": [
    "## Funciones útiles"
   ]
  },
  {
   "cell_type": "code",
   "execution_count": 2,
   "metadata": {},
   "outputs": [],
   "source": [
    "def make_specs( rows : int, cols : int, n : int) -> dict:\n",
    "    \"\"\"Makes the list of dictionaries to set the layout for the function make_subplots, especially for primes and specific grids.\n",
    "\n",
    "    Args:\n",
    "        rows (int): Number of rows for the grid\n",
    "        cols (int): Number of columns for the grid\n",
    "        n (int): Total number of figures\n",
    "\n",
    "    Returns:\n",
    "        dict: Grid for plotting\n",
    "    \"\"\"\n",
    "    specs = []\n",
    "    for i in range(rows):\n",
    "        auxi = []\n",
    "        for j in range(cols):\n",
    "            if i*cols + j <= n:\n",
    "                auxi.append({})\n",
    "            else:\n",
    "                auxi.append(None)\n",
    "        specs.append(auxi)\n",
    "    return specs"
   ]
  },
  {
   "cell_type": "code",
   "execution_count": 3,
   "metadata": {},
   "outputs": [],
   "source": [
    "def hist_matrix(df : pd.DataFrame, columns : list = None, rows : int = None, cols : int = None) -> None:\n",
    "    \"\"\"Makes a matrix of histograms for each column of a pd.DataFrame\n",
    "\n",
    "    Args:\n",
    "        df (pd.DataFrame): Data to plot\n",
    "        columns (list, optional): Columns to include in the matrix. Defaults to None.\n",
    "        rows (int, optional): Number of rows for the matrix. Defaults to None.\n",
    "        cols (int, optional): Number of columns for the matrix. Defaults to None.\n",
    "    \"\"\"\n",
    "    if columns == None:\n",
    "        columns = df.columns\n",
    "    \n",
    "    n = len(columns)\n",
    "\n",
    "    if rows == None:\n",
    "        rows = int(n**0.5)\n",
    "    if cols == None:\n",
    "        cols = int(n/rows + 0.99)\n",
    "    \n",
    "    if rows*cols < n:\n",
    "        cols = int(n/rows + 0.99)\n",
    "\n",
    "    specs = make_specs(rows, cols, n)\n",
    "    fig1 = make_subplots(rows = rows, cols = cols,\n",
    "                        specs= specs, subplot_titles= columns)\n",
    "\n",
    "    for i, col in enumerate(columns):\n",
    "        row = i//cols +1\n",
    "        colum = i%cols + 1\n",
    "        fig1.add_trace(go.Histogram(x=df[col], name=col, ) , row=row, col=colum)\n",
    "\n",
    "    fig1.update_layout(title_text='Histogramas', showlegend=False)\n",
    "    \n",
    "    return fig1"
   ]
  },
  {
   "cell_type": "code",
   "execution_count": 4,
   "metadata": {},
   "outputs": [],
   "source": [
    "def box_matrix(df : pd.DataFrame, columns : list = None, rows : int = None, cols : int = None) -> None:\n",
    "    \"\"\"Makes a matrix of boxes for each column of a pd.DataFrame\n",
    "\n",
    "    Args:\n",
    "        df (pd.DataFrame): Data to plot\n",
    "        columns (list, optional): Columns to include in the matrix. Defaults to None.\n",
    "        rows (int, optional): Number of rows for the matrix. Defaults to None.\n",
    "        cols (int, optional): Number of columns for the matrix. Defaults to None.\n",
    "    \"\"\"\n",
    "    if columns == None:\n",
    "        columns = df.columns\n",
    "    \n",
    "    n = len(columns)\n",
    "\n",
    "    if rows == None:\n",
    "        rows = int(n**0.5)\n",
    "    if cols == None:\n",
    "        cols = int(n/rows + 0.99)\n",
    "    \n",
    "    if rows*cols < n:\n",
    "        cols = int(n/rows + 0.99)\n",
    "\n",
    "    specs = make_specs(rows, cols, n)\n",
    "    fig1 = make_subplots(rows = rows, cols = cols,\n",
    "                        specs= specs, subplot_titles= columns)\n",
    "\n",
    "    for i, col in enumerate(columns):\n",
    "        row = i//cols +1\n",
    "        colum = i%cols + 1\n",
    "        fig1.add_trace(go.Box(x=df[col], name=col, ) , row=row, col=colum)\n",
    "\n",
    "    fig1.update_layout(title_text='Cajas', showlegend=False)\n",
    "    \n",
    "    return fig1"
   ]
  },
  {
   "cell_type": "code",
   "execution_count": 5,
   "metadata": {},
   "outputs": [],
   "source": [
    "def remove_outliers_percentile(df: pd.DataFrame, quantile: float = 0.99, \n",
    "                    columns: list = None, upper: bool = True) -> pd.DataFrame:\n",
    "    \"\"\"REmoves outliers from a Dataframe\n",
    "\n",
    "    Args:\n",
    "        df (pd.DataFrame): _description_\n",
    "        quantile (float, optional): _description_. Defaults to 0.99.\n",
    "        columns (list, optional): _description_. Defaults to None.\n",
    "        upper (bool, optional): _description_. Defaults to True.\n",
    "\n",
    "    Returns:\n",
    "        pd.DataFrame: _description_\n",
    "    \"\"\"\n",
    "    if columns == None:\n",
    "        columns = df.columns\n",
    "    \n",
    "    limits = df[columns].quantile(quantile)\n",
    "\n",
    "    sign = 1\n",
    "    if not upper:\n",
    "        sign = -1\n",
    "        \n",
    "    for col in columns:\n",
    "        df = df[sign*df[col] <= sign*limits[col]]\n",
    "        \n",
    "    return df"
   ]
  },
  {
   "cell_type": "markdown",
   "metadata": {},
   "source": [
    "# Carga de datos"
   ]
  },
  {
   "cell_type": "code",
   "execution_count": 6,
   "metadata": {},
   "outputs": [],
   "source": [
    "df_users = pd.read_csv('Datos_Enriquecidos/user_det.csv')"
   ]
  },
  {
   "cell_type": "code",
   "execution_count": 1,
   "metadata": {},
   "outputs": [],
   "source": [
    "#df_users"
   ]
  },
  {
   "cell_type": "code",
   "execution_count": 2,
   "metadata": {},
   "outputs": [],
   "source": [
    "#df_users.dtypes"
   ]
  },
  {
   "cell_type": "markdown",
   "metadata": {},
   "source": [
    "## Nulos"
   ]
  },
  {
   "cell_type": "code",
   "execution_count": 3,
   "metadata": {},
   "outputs": [],
   "source": [
    "#df_users.isnull().mean()"
   ]
  },
  {
   "cell_type": "code",
   "execution_count": 8,
   "metadata": {},
   "outputs": [],
   "source": [
    "old_shape = df_users.shape[0]"
   ]
  },
  {
   "cell_type": "code",
   "execution_count": 9,
   "metadata": {},
   "outputs": [],
   "source": [
    "df_users = df_users.dropna(subset=['Days Watched', 'Username'])"
   ]
  },
  {
   "cell_type": "code",
   "execution_count": 10,
   "metadata": {},
   "outputs": [
    {
     "data": {
      "text/plain": [
       "0.9995967609653679"
      ]
     },
     "execution_count": 10,
     "metadata": {},
     "output_type": "execute_result"
    }
   ],
   "source": [
    "df_users.shape[0]/old_shape"
   ]
  },
  {
   "cell_type": "code",
   "execution_count": 4,
   "metadata": {},
   "outputs": [],
   "source": [
    "#df_users.isnull().mean()"
   ]
  },
  {
   "cell_type": "markdown",
   "metadata": {},
   "source": [
    "## Borrar columnas altamente vacías"
   ]
  },
  {
   "cell_type": "code",
   "execution_count": 11,
   "metadata": {},
   "outputs": [],
   "source": [
    "df_users = df_users.drop(['Gender', 'Birthday', 'Location'], axis=1)"
   ]
  },
  {
   "cell_type": "markdown",
   "metadata": {},
   "source": [
    "# EDA"
   ]
  },
  {
   "cell_type": "markdown",
   "metadata": {},
   "source": [
    "## Joined"
   ]
  },
  {
   "cell_type": "code",
   "execution_count": 12,
   "metadata": {},
   "outputs": [],
   "source": [
    "df_users['Joined'] = pd.to_datetime(df_users['Joined'], errors='coerce')"
   ]
  },
  {
   "cell_type": "code",
   "execution_count": 5,
   "metadata": {},
   "outputs": [],
   "source": [
    "#df_users.dtypes"
   ]
  },
  {
   "cell_type": "markdown",
   "metadata": {},
   "source": [
    "# Outliers"
   ]
  },
  {
   "cell_type": "code",
   "execution_count": 6,
   "metadata": {},
   "outputs": [],
   "source": [
    "#df_users.describe()"
   ]
  },
  {
   "cell_type": "code",
   "execution_count": 7,
   "metadata": {},
   "outputs": [
    {
     "name": "stdout",
     "output_type": "stream",
     "text": [
      "The history saving thread hit an unexpected error (OperationalError('database or disk is full')).History will not be written to the database.\n"
     ]
    }
   ],
   "source": [
    "#df_users.columns"
   ]
  },
  {
   "cell_type": "code",
   "execution_count": 13,
   "metadata": {},
   "outputs": [],
   "source": [
    "users_ol = ['Days Watched', 'Mean Score',\n",
    "       'Watching', 'Completed', 'On Hold', 'Dropped', 'Plan to Watch',\n",
    "       'Total Entries', 'Rewatched', 'Episodes Watched']"
   ]
  },
  {
   "cell_type": "code",
   "execution_count": 14,
   "metadata": {},
   "outputs": [],
   "source": [
    "df_users = remove_outliers_percentile(df = df_users, columns = users_ol)"
   ]
  },
  {
   "cell_type": "code",
   "execution_count": 8,
   "metadata": {},
   "outputs": [],
   "source": [
    "#df_users.shape[0]/old_shape"
   ]
  },
  {
   "cell_type": "markdown",
   "metadata": {},
   "source": [
    "# Visualización"
   ]
  },
  {
   "cell_type": "markdown",
   "metadata": {},
   "source": [
    "## Estadísticos"
   ]
  },
  {
   "cell_type": "code",
   "execution_count": 9,
   "metadata": {},
   "outputs": [],
   "source": [
    "#df_users.describe()"
   ]
  },
  {
   "cell_type": "markdown",
   "metadata": {},
   "source": [
    "## Histogramas"
   ]
  },
  {
   "cell_type": "code",
   "execution_count": 10,
   "metadata": {},
   "outputs": [],
   "source": [
    "#df_users.columns"
   ]
  },
  {
   "cell_type": "code",
   "execution_count": 15,
   "metadata": {},
   "outputs": [],
   "source": [
    "users_num = ['Days Watched', 'Mean Score',\n",
    "       'Watching', 'Completed', 'On Hold', 'Dropped', 'Plan to Watch',\n",
    "       'Total Entries', 'Rewatched', 'Episodes Watched']"
   ]
  },
  {
   "cell_type": "code",
   "execution_count": 25,
   "metadata": {},
   "outputs": [
    {
     "data": {
      "image/png": "[encoded data removed]",
      "text/plain": [
       "<IPython.core.display.Image object>"
      ]
     },
     "metadata": {},
     "output_type": "display_data"
    }
   ],
   "source": [
    "plot = hist_matrix(df_users, users_num)\n",
    "img = Image(plot.to_image(format = \"png\"))\n",
    "display(img)"
   ]
  },
  {
   "cell_type": "markdown",
   "metadata": {},
   "source": [
    "## Cajas"
   ]
  },
  {
   "cell_type": "code",
   "execution_count": 12,
   "metadata": {},
   "outputs": [],
   "source": [
    "#box_matrix(df_users, users_num)"
   ]
  },
  {
   "cell_type": "code",
   "execution_count": null,
   "metadata": {},
   "outputs": [],
   "source": []
  }
 ],
 "metadata": {
  "kernelspec": {
   "display_name": "Python",
   "language": "python",
   "name": "python3"
  },
  "language_info": {
   "codemirror_mode": {
    "name": "ipython",
    "version": 3
   },
   "file_extension": ".py",
   "mimetype": "text/x-python",
   "name": "python",
   "nbconvert_exporter": "python",
   "pygments_lexer": "ipython3",
   "version": "3.11.8"
  }
 },
 "nbformat": 4,
 "nbformat_minor": 2
}
