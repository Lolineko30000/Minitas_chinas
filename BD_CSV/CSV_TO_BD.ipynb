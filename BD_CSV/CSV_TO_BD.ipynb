{
 "cells": [
  {
   "cell_type": "code",
   "execution_count": 127,
   "metadata": {},
   "outputs": [],
   "source": [
    "import os\n",
    "import pandas as pd"
   ]
  },
  {
   "cell_type": "markdown",
   "metadata": {},
   "source": [
    "## Carga"
   ]
  },
  {
   "cell_type": "code",
   "execution_count": 128,
   "metadata": {},
   "outputs": [],
   "source": [
    "animes = pd.read_csv('./DATA/animes.csv').rename(columns={ 'anime_id':'ANIME_ID', 'Name':'ANIME_NAME', 'Score':'SCORE', 'Genres':'GENRES', 'Synopsis':'SYNOPSIS', 'Type':'TYPE', 'Episodes':'EPISODES', 'Status':'EMISION_STATUS', 'Source':'SOURCE', 'Rating':'RATING', 'Rank':'ANIME_RANK', 'Popularity':'POPULARITY', 'Favorites':'FAVORITES', 'Scored By':'SCORED_BY', 'Members':'MEMBERS', 'Image URL':'IMAGE_URL', 'Sec duration':'SEC DURATION', 'Emision':'EMISSION', 'Cierre':'CLOSURE', })\n",
    "users = pd.read_csv('./DATA/users.csv').rename(columns={'Mal ID':'USER_ID', 'Username':'USER_NAME', 'Joined':'JOINED', 'Days Watched':'DAYS_WATCHED', 'Mean Score':'MEAN_SCORE', 'Watching':'WATCHING', 'Completed':'COMPLETED', 'On Hold':'ON_HOLD', 'Dropped':'DROPPED', 'Plan to Watch':'PLAN_TO_WATCH', 'Total Entries':'TOTAL_ENTRIES', 'Rewatched':'REWATCHED', 'Episodes Watched':'EPISODES_WATCHED', })\n",
    "ratings = pd.read_csv('./DATA/ratings.csv').rename(columns={'user_id':'USER_ID','anime_id':'ANIME_ID','rating':'RATING'})"
   ]
  },
  {
   "cell_type": "code",
   "execution_count": 129,
   "metadata": {},
   "outputs": [],
   "source": [
    "catalogos = { x.replace('CATALOG_','').replace('.csv',''):pd.read_csv(f'./DATA/{x}') for x in os.listdir('./DATA') if 'CATALOG' in x}"
   ]
  },
  {
   "cell_type": "markdown",
   "metadata": {},
   "source": [
    "## Creacion de las tablas"
   ]
  },
  {
   "cell_type": "code",
   "execution_count": 130,
   "metadata": {},
   "outputs": [
    {
     "data": {
      "text/html": [
       "<div>\n",
       "<style scoped>\n",
       "    .dataframe tbody tr th:only-of-type {\n",
       "        vertical-align: middle;\n",
       "    }\n",
       "\n",
       "    .dataframe tbody tr th {\n",
       "        vertical-align: top;\n",
       "    }\n",
       "\n",
       "    .dataframe thead th {\n",
       "        text-align: right;\n",
       "    }\n",
       "</style>\n",
       "<table border=\"1\" class=\"dataframe\">\n",
       "  <thead>\n",
       "    <tr style=\"text-align: right;\">\n",
       "      <th></th>\n",
       "      <th>ID_GENRE</th>\n",
       "      <th>GENRE</th>\n",
       "    </tr>\n",
       "  </thead>\n",
       "  <tbody>\n",
       "    <tr>\n",
       "      <th>0</th>\n",
       "      <td>0</td>\n",
       "      <td>Action</td>\n",
       "    </tr>\n",
       "    <tr>\n",
       "      <th>1</th>\n",
       "      <td>1</td>\n",
       "      <td>Drama</td>\n",
       "    </tr>\n",
       "  </tbody>\n",
       "</table>\n",
       "</div>"
      ],
      "text/plain": [
       "   ID_GENRE   GENRE\n",
       "0         0  Action\n",
       "1         1   Drama"
      ]
     },
     "execution_count": 130,
     "metadata": {},
     "output_type": "execute_result"
    }
   ],
   "source": [
    "catalogos['GENRES'].head(2)"
   ]
  },
  {
   "cell_type": "code",
   "execution_count": 131,
   "metadata": {},
   "outputs": [],
   "source": [
    "animes['GENRES'] = animes['GENRES'].map(lambda x: list(map(lambda y:y.strip(), x.split(',') )))"
   ]
  },
  {
   "cell_type": "code",
   "execution_count": 132,
   "metadata": {},
   "outputs": [],
   "source": [
    "ANIME_GENRE = pd.DataFrame(animes[['ANIME_ID','GENRES']].apply( lambda x: (x['ANIME_ID'],list(catalogos['GENRES'][catalogos['GENRES']['GENRE'].isin(x['GENRES'])]['ID_GENRE'])) , axis  = 1 ).to_list(),columns=['ID_ANIME','ID_GENRE']).explode('ID_GENRE')"
   ]
  },
  {
   "cell_type": "code",
   "execution_count": 133,
   "metadata": {},
   "outputs": [
    {
     "data": {
      "text/html": [
       "<div>\n",
       "<style scoped>\n",
       "    .dataframe tbody tr th:only-of-type {\n",
       "        vertical-align: middle;\n",
       "    }\n",
       "\n",
       "    .dataframe tbody tr th {\n",
       "        vertical-align: top;\n",
       "    }\n",
       "\n",
       "    .dataframe thead th {\n",
       "        text-align: right;\n",
       "    }\n",
       "</style>\n",
       "<table border=\"1\" class=\"dataframe\">\n",
       "  <thead>\n",
       "    <tr style=\"text-align: right;\">\n",
       "      <th></th>\n",
       "      <th>ID_PRODUCER</th>\n",
       "      <th>NAME</th>\n",
       "    </tr>\n",
       "  </thead>\n",
       "  <tbody>\n",
       "    <tr>\n",
       "      <th>0</th>\n",
       "      <td>0</td>\n",
       "      <td>Bandai Visual</td>\n",
       "    </tr>\n",
       "    <tr>\n",
       "      <th>1</th>\n",
       "      <td>1</td>\n",
       "      <td>Dentsu</td>\n",
       "    </tr>\n",
       "  </tbody>\n",
       "</table>\n",
       "</div>"
      ],
      "text/plain": [
       "   ID_PRODUCER           NAME\n",
       "0            0  Bandai Visual\n",
       "1            1         Dentsu"
      ]
     },
     "execution_count": 133,
     "metadata": {},
     "output_type": "execute_result"
    }
   ],
   "source": [
    "catalogos['PRODUCERS'].head(2)"
   ]
  },
  {
   "cell_type": "code",
   "execution_count": 134,
   "metadata": {},
   "outputs": [
    {
     "data": {
      "text/html": [
       "<div>\n",
       "<style scoped>\n",
       "    .dataframe tbody tr th:only-of-type {\n",
       "        vertical-align: middle;\n",
       "    }\n",
       "\n",
       "    .dataframe tbody tr th {\n",
       "        vertical-align: top;\n",
       "    }\n",
       "\n",
       "    .dataframe thead th {\n",
       "        text-align: right;\n",
       "    }\n",
       "</style>\n",
       "<table border=\"1\" class=\"dataframe\">\n",
       "  <thead>\n",
       "    <tr style=\"text-align: right;\">\n",
       "      <th></th>\n",
       "      <th>Unnamed: 0</th>\n",
       "      <th>USER_ID</th>\n",
       "      <th>USER_NAME</th>\n",
       "      <th>JOINED</th>\n",
       "      <th>DAYS_WATCHED</th>\n",
       "      <th>MEAN_SCORE</th>\n",
       "      <th>WATCHING</th>\n",
       "      <th>COMPLETED</th>\n",
       "      <th>ON_HOLD</th>\n",
       "      <th>DROPPED</th>\n",
       "      <th>PLAN_TO_WATCH</th>\n",
       "      <th>TOTAL_ENTRIES</th>\n",
       "      <th>REWATCHED</th>\n",
       "      <th>EPISODES_WATCHED</th>\n",
       "    </tr>\n",
       "  </thead>\n",
       "  <tbody>\n",
       "    <tr>\n",
       "      <th>0</th>\n",
       "      <td>3</td>\n",
       "      <td>9</td>\n",
       "      <td>Arcane</td>\n",
       "      <td>2004-12-05 00:00:00+00:00</td>\n",
       "      <td>30.0</td>\n",
       "      <td>7.71</td>\n",
       "      <td>5.0</td>\n",
       "      <td>54.0</td>\n",
       "      <td>4.0</td>\n",
       "      <td>3.0</td>\n",
       "      <td>0.0</td>\n",
       "      <td>66.0</td>\n",
       "      <td>0.0</td>\n",
       "      <td>1817.0</td>\n",
       "    </tr>\n",
       "  </tbody>\n",
       "</table>\n",
       "</div>"
      ],
      "text/plain": [
       "   Unnamed: 0  USER_ID USER_NAME                     JOINED  DAYS_WATCHED  \\\n",
       "0           3        9    Arcane  2004-12-05 00:00:00+00:00          30.0   \n",
       "\n",
       "   MEAN_SCORE  WATCHING  COMPLETED  ON_HOLD  DROPPED  PLAN_TO_WATCH  \\\n",
       "0        7.71       5.0       54.0      4.0      3.0            0.0   \n",
       "\n",
       "   TOTAL_ENTRIES  REWATCHED  EPISODES_WATCHED  \n",
       "0           66.0        0.0            1817.0  "
      ]
     },
     "execution_count": 134,
     "metadata": {},
     "output_type": "execute_result"
    }
   ],
   "source": [
    "users.head(1)"
   ]
  },
  {
   "cell_type": "code",
   "execution_count": 135,
   "metadata": {},
   "outputs": [],
   "source": [
    "animes['Producers'] = animes['Producers'].map(lambda x: list(map(lambda y:y.strip(), x.split(',') )))"
   ]
  },
  {
   "cell_type": "code",
   "execution_count": 136,
   "metadata": {},
   "outputs": [],
   "source": [
    "ANUME_PRODUCER=pd.DataFrame(animes[['ANIME_ID','Producers']].apply( lambda x: (x['ANIME_ID'],list(catalogos['PRODUCERS'][catalogos['PRODUCERS']['NAME'].isin(x['Producers'])]['ID_PRODUCER'])) , axis  = 1 ).to_list(),columns=['ID_ANIME','ID_PRODUCER']).explode('ID_PRODUCER')"
   ]
  },
  {
   "cell_type": "code",
   "execution_count": 137,
   "metadata": {},
   "outputs": [],
   "source": [
    "mapping_dict = dict(zip(catalogos['TYPE']['CODE'], catalogos['TYPE']['ID_TYPE']))"
   ]
  },
  {
   "cell_type": "code",
   "execution_count": 138,
   "metadata": {},
   "outputs": [],
   "source": [
    "animes['ID_TYPE'] = animes['TYPE'].apply( lambda x: [v for k,v in mapping_dict.items() if k in x][0] )"
   ]
  },
  {
   "cell_type": "code",
   "execution_count": 139,
   "metadata": {},
   "outputs": [],
   "source": [
    "mapping_dict2 = dict(zip(catalogos['RATING']['RATING'], catalogos['RATING']['ID_RATING']))"
   ]
  },
  {
   "cell_type": "code",
   "execution_count": 140,
   "metadata": {},
   "outputs": [],
   "source": [
    "animes['ID_RATING'] = animes['RATING'].apply( lambda x: [v for k,v in mapping_dict2.items() if k in x][0] )"
   ]
  },
  {
   "cell_type": "markdown",
   "metadata": {},
   "source": [
    "## Transformacion a csv's"
   ]
  },
  {
   "cell_type": "code",
   "execution_count": 149,
   "metadata": {},
   "outputs": [],
   "source": [
    "animes[['ANIME_ID', 'ANIME_NAME', 'SCORE', 'SYNOPSIS', 'EPISODES', 'EMISION_STATUS', 'SOURCE','ANIME_RANK', 'POPULARITY', 'FAVORITES', 'SCORED_BY', 'MEMBERS', 'IMAGE_URL', 'EMISSION', 'CLOSURE', 'ID_TYPE', 'ID_RATING']].to_csv('./outputs/ANIMES.csv',index=False)"
   ]
  },
  {
   "cell_type": "code",
   "execution_count": 154,
   "metadata": {},
   "outputs": [],
   "source": [
    "users[['USER_ID','USER_NAME','JOINED','DAYS_WATCHED','MEAN_SCORE','WATCHING','COMPLETED','ON_HOLD','DROPPED','PLAN_TO_WATCH','TOTAL_ENTRIES','REWATCHED','EPISODES_WATCHED']].to_csv('./outputs/USERS.csv',index=False)"
   ]
  },
  {
   "cell_type": "code",
   "execution_count": 151,
   "metadata": {},
   "outputs": [],
   "source": [
    "ratings.to_csv('./outputs/WATCHED_ANIMES.csv',index=False)"
   ]
  },
  {
   "cell_type": "code",
   "execution_count": 152,
   "metadata": {},
   "outputs": [],
   "source": [
    "ANIME_GENRE.to_csv('./outputs/ANIME_GENRE.csv',index=False)"
   ]
  },
  {
   "cell_type": "code",
   "execution_count": 153,
   "metadata": {},
   "outputs": [],
   "source": [
    "ANUME_PRODUCER.to_csv('./outputs/ANIME_PRODUCTORS.csv',index=False)"
   ]
  },
  {
   "cell_type": "code",
   "execution_count": null,
   "metadata": {},
   "outputs": [],
   "source": []
  }
 ],
 "metadata": {
  "kernelspec": {
   "display_name": "Python 3",
   "language": "python",
   "name": "python3"
  },
  "language_info": {
   "codemirror_mode": {
    "name": "ipython",
    "version": 3
   },
   "file_extension": ".py",
   "mimetype": "text/x-python",
   "name": "python",
   "nbconvert_exporter": "python",
   "pygments_lexer": "ipython3",
   "version": "3.11.8"
  }
 },
 "nbformat": 4,
 "nbformat_minor": 2
}
