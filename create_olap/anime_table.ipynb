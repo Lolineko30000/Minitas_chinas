{
 "cells": [
  {
   "cell_type": "code",
   "execution_count": 3,
   "metadata": {},
   "outputs": [],
   "source": [
    "import pandas as pd\n",
    "import numpy as np"
   ]
  },
  {
   "cell_type": "code",
   "execution_count": 4,
   "metadata": {},
   "outputs": [],
   "source": [
    "anime = pd.read_csv(\"../Data/ANIMES.csv\")"
   ]
  },
  {
   "cell_type": "code",
   "execution_count": 29,
   "metadata": {},
   "outputs": [
    {
     "data": {
      "text/plain": [
       "Index(['ANIME_ID', 'ANIME_NAME', 'SCORE', 'SYNOPSIS', 'EPISODES',\n",
       "       'EMISION_STATUS', 'SOURCE', 'ANIME_RANK', 'POPULARITY', 'FAVORITES',\n",
       "       'SCORED_BY', 'MEMBERS', 'IMAGE_URL', 'EMISSION', 'CLOSURE', 'ID_TYPE',\n",
       "       'ID_RATING'],\n",
       "      dtype='object')"
      ]
     },
     "execution_count": 29,
     "metadata": {},
     "output_type": "execute_result"
    }
   ],
   "source": [
    "anime.columns"
   ]
  },
  {
   "cell_type": "markdown",
   "metadata": {},
   "source": [
    "## ANIME"
   ]
  },
  {
   "cell_type": "code",
   "execution_count": 30,
   "metadata": {},
   "outputs": [],
   "source": [
    "anime[[\"ANIME_ID\",\"ANIME_NAME\",\"SCORE\",\"EPISODES\",\"EMISION_STATUS\",\"SOURCE\",\"POPULARITY\",\"FAVORITES\",\"SCORED_BY\",\"MEMBERS\",\"EMISSION\",\"CLOSURE\",\"ID_TYPE\",\"ID_RATING\"]].to_csv(\"./tables_olap/ANIME.csv\", index=False)"
   ]
  },
  {
   "cell_type": "markdown",
   "metadata": {},
   "source": [
    "## TYPE"
   ]
  },
  {
   "cell_type": "code",
   "execution_count": 5,
   "metadata": {},
   "outputs": [],
   "source": [
    "typed = pd.read_csv(\"../Data/CATALOG_TYPE.csv\")"
   ]
  },
  {
   "cell_type": "code",
   "execution_count": 32,
   "metadata": {},
   "outputs": [],
   "source": [
    "typed.to_csv(\"./tables_olap/TYPE.csv\", index=False)"
   ]
  },
  {
   "cell_type": "markdown",
   "metadata": {},
   "source": [
    "## RATINGS"
   ]
  },
  {
   "cell_type": "code",
   "execution_count": 6,
   "metadata": {},
   "outputs": [],
   "source": [
    "ratings =  pd.read_csv(\"../Data/CATALOG_RATING.csv\")"
   ]
  },
  {
   "cell_type": "code",
   "execution_count": 34,
   "metadata": {},
   "outputs": [],
   "source": [
    "ratings.to_csv(\"./tables_olap/RATINGS.csv\", index=False)"
   ]
  },
  {
   "cell_type": "markdown",
   "metadata": {},
   "source": [
    "## GENRE"
   ]
  },
  {
   "cell_type": "code",
   "execution_count": 7,
   "metadata": {},
   "outputs": [],
   "source": [
    "genre = pd.read_csv(\"../Data/CATALOG_GENRES.csv\")"
   ]
  },
  {
   "cell_type": "code",
   "execution_count": 36,
   "metadata": {},
   "outputs": [],
   "source": [
    "genre.to_csv(\"./tables_olap/GENRE.csv\", index=False)"
   ]
  },
  {
   "cell_type": "markdown",
   "metadata": {},
   "source": [
    "## PRODUCTORS"
   ]
  },
  {
   "cell_type": "code",
   "execution_count": 8,
   "metadata": {},
   "outputs": [],
   "source": [
    "productors = pd.read_csv(\"../Data/CATALOG_PRODUCERS.csv\")"
   ]
  },
  {
   "cell_type": "code",
   "execution_count": 38,
   "metadata": {},
   "outputs": [],
   "source": [
    "productors.to_csv(\"./tables_olap/PRODUCTORS.csv\", index=False)"
   ]
  },
  {
   "cell_type": "markdown",
   "metadata": {},
   "source": [
    "## Hechos"
   ]
  },
  {
   "cell_type": "code",
   "execution_count": 30,
   "metadata": {},
   "outputs": [],
   "source": [
    "hechos = pd.read_csv(\"../Data/rank_anime.csv\")"
   ]
  },
  {
   "cell_type": "code",
   "execution_count": 31,
   "metadata": {},
   "outputs": [
    {
     "data": {
      "text/html": [
       "<div>\n",
       "<style scoped>\n",
       "    .dataframe tbody tr th:only-of-type {\n",
       "        vertical-align: middle;\n",
       "    }\n",
       "\n",
       "    .dataframe tbody tr th {\n",
       "        vertical-align: top;\n",
       "    }\n",
       "\n",
       "    .dataframe thead th {\n",
       "        text-align: right;\n",
       "    }\n",
       "</style>\n",
       "<table border=\"1\" class=\"dataframe\">\n",
       "  <thead>\n",
       "    <tr style=\"text-align: right;\">\n",
       "      <th></th>\n",
       "      <th>USER_ID</th>\n",
       "      <th>ANIME_ID</th>\n",
       "      <th>EMISSION</th>\n",
       "      <th>JOINED</th>\n",
       "      <th>RATING</th>\n",
       "      <th>DATE_RATING</th>\n",
       "    </tr>\n",
       "  </thead>\n",
       "  <tbody>\n",
       "    <tr>\n",
       "      <th>0</th>\n",
       "      <td>9</td>\n",
       "      <td>60</td>\n",
       "      <td>2003-11-25</td>\n",
       "      <td>2004-12-05</td>\n",
       "      <td>8</td>\n",
       "      <td>2007-09-18 03:55:03</td>\n",
       "    </tr>\n",
       "    <tr>\n",
       "      <th>1</th>\n",
       "      <td>9</td>\n",
       "      <td>99</td>\n",
       "      <td>2005-10-07</td>\n",
       "      <td>2004-12-05</td>\n",
       "      <td>8</td>\n",
       "      <td>2009-03-21 08:52:08</td>\n",
       "    </tr>\n",
       "    <tr>\n",
       "      <th>2</th>\n",
       "      <td>9</td>\n",
       "      <td>49</td>\n",
       "      <td>1993-02-21</td>\n",
       "      <td>2004-12-05</td>\n",
       "      <td>9</td>\n",
       "      <td>2009-06-16 23:49:35</td>\n",
       "    </tr>\n",
       "    <tr>\n",
       "      <th>3</th>\n",
       "      <td>9</td>\n",
       "      <td>304</td>\n",
       "      <td>2000-10-21</td>\n",
       "      <td>2004-12-05</td>\n",
       "      <td>10</td>\n",
       "      <td>2005-08-05 21:41:00</td>\n",
       "    </tr>\n",
       "    <tr>\n",
       "      <th>4</th>\n",
       "      <td>9</td>\n",
       "      <td>53</td>\n",
       "      <td>2002-04-11</td>\n",
       "      <td>2004-12-05</td>\n",
       "      <td>8</td>\n",
       "      <td>2006-04-28 01:44:03</td>\n",
       "    </tr>\n",
       "    <tr>\n",
       "      <th>...</th>\n",
       "      <td>...</td>\n",
       "      <td>...</td>\n",
       "      <td>...</td>\n",
       "      <td>...</td>\n",
       "      <td>...</td>\n",
       "      <td>...</td>\n",
       "    </tr>\n",
       "    <tr>\n",
       "      <th>9349621</th>\n",
       "      <td>552069</td>\n",
       "      <td>30187</td>\n",
       "      <td>2015-10-08</td>\n",
       "      <td>2011-08-22</td>\n",
       "      <td>3</td>\n",
       "      <td>2017-11-19 16:23:35</td>\n",
       "    </tr>\n",
       "    <tr>\n",
       "      <th>9349622</th>\n",
       "      <td>552069</td>\n",
       "      <td>31540</td>\n",
       "      <td>2016-01-08</td>\n",
       "      <td>2011-08-22</td>\n",
       "      <td>5</td>\n",
       "      <td>2017-11-02 03:23:41</td>\n",
       "    </tr>\n",
       "    <tr>\n",
       "      <th>9349623</th>\n",
       "      <td>552069</td>\n",
       "      <td>16239</td>\n",
       "      <td>2012-12-15</td>\n",
       "      <td>2011-08-22</td>\n",
       "      <td>4</td>\n",
       "      <td>2016-07-28 16:20:47</td>\n",
       "    </tr>\n",
       "    <tr>\n",
       "      <th>9349624</th>\n",
       "      <td>552069</td>\n",
       "      <td>12419</td>\n",
       "      <td>2012-01-03</td>\n",
       "      <td>2011-08-22</td>\n",
       "      <td>4</td>\n",
       "      <td>2013-12-03 12:58:09</td>\n",
       "    </tr>\n",
       "    <tr>\n",
       "      <th>9349625</th>\n",
       "      <td>552069</td>\n",
       "      <td>20449</td>\n",
       "      <td>2014-10-22</td>\n",
       "      <td>2011-08-22</td>\n",
       "      <td>7</td>\n",
       "      <td>2018-05-30 23:12:59</td>\n",
       "    </tr>\n",
       "  </tbody>\n",
       "</table>\n",
       "<p>9349626 rows × 6 columns</p>\n",
       "</div>"
      ],
      "text/plain": [
       "         USER_ID  ANIME_ID    EMISSION      JOINED  RATING  \\\n",
       "0              9        60  2003-11-25  2004-12-05       8   \n",
       "1              9        99  2005-10-07  2004-12-05       8   \n",
       "2              9        49  1993-02-21  2004-12-05       9   \n",
       "3              9       304  2000-10-21  2004-12-05      10   \n",
       "4              9        53  2002-04-11  2004-12-05       8   \n",
       "...          ...       ...         ...         ...     ...   \n",
       "9349621   552069     30187  2015-10-08  2011-08-22       3   \n",
       "9349622   552069     31540  2016-01-08  2011-08-22       5   \n",
       "9349623   552069     16239  2012-12-15  2011-08-22       4   \n",
       "9349624   552069     12419  2012-01-03  2011-08-22       4   \n",
       "9349625   552069     20449  2014-10-22  2011-08-22       7   \n",
       "\n",
       "                 DATE_RATING  \n",
       "0        2007-09-18 03:55:03  \n",
       "1        2009-03-21 08:52:08  \n",
       "2        2009-06-16 23:49:35  \n",
       "3        2005-08-05 21:41:00  \n",
       "4        2006-04-28 01:44:03  \n",
       "...                      ...  \n",
       "9349621  2017-11-19 16:23:35  \n",
       "9349622  2017-11-02 03:23:41  \n",
       "9349623  2016-07-28 16:20:47  \n",
       "9349624  2013-12-03 12:58:09  \n",
       "9349625  2018-05-30 23:12:59  \n",
       "\n",
       "[9349626 rows x 6 columns]"
      ]
     },
     "execution_count": 31,
     "metadata": {},
     "output_type": "execute_result"
    }
   ],
   "source": [
    "hechos"
   ]
  },
  {
   "cell_type": "code",
   "execution_count": 33,
   "metadata": {},
   "outputs": [],
   "source": [
    "anime_gerne =  pd.read_csv(\"../Data/ANIME_GENRE.csv\")"
   ]
  },
  {
   "cell_type": "code",
   "execution_count": 34,
   "metadata": {},
   "outputs": [
    {
     "data": {
      "text/html": [
       "<div>\n",
       "<style scoped>\n",
       "    .dataframe tbody tr th:only-of-type {\n",
       "        vertical-align: middle;\n",
       "    }\n",
       "\n",
       "    .dataframe tbody tr th {\n",
       "        vertical-align: top;\n",
       "    }\n",
       "\n",
       "    .dataframe thead th {\n",
       "        text-align: right;\n",
       "    }\n",
       "</style>\n",
       "<table border=\"1\" class=\"dataframe\">\n",
       "  <thead>\n",
       "    <tr style=\"text-align: right;\">\n",
       "      <th></th>\n",
       "      <th>ID_ANIME</th>\n",
       "      <th>ID_GENRE</th>\n",
       "    </tr>\n",
       "  </thead>\n",
       "  <tbody>\n",
       "    <tr>\n",
       "      <th>0</th>\n",
       "      <td>7</td>\n",
       "      <td>0</td>\n",
       "    </tr>\n",
       "    <tr>\n",
       "      <th>1</th>\n",
       "      <td>7</td>\n",
       "      <td>1</td>\n",
       "    </tr>\n",
       "    <tr>\n",
       "      <th>2</th>\n",
       "      <td>7</td>\n",
       "      <td>2</td>\n",
       "    </tr>\n",
       "    <tr>\n",
       "      <th>3</th>\n",
       "      <td>7</td>\n",
       "      <td>3</td>\n",
       "    </tr>\n",
       "    <tr>\n",
       "      <th>4</th>\n",
       "      <td>8</td>\n",
       "      <td>3</td>\n",
       "    </tr>\n",
       "    <tr>\n",
       "      <th>...</th>\n",
       "      <td>...</td>\n",
       "      <td>...</td>\n",
       "    </tr>\n",
       "    <tr>\n",
       "      <th>40332</th>\n",
       "      <td>55733</td>\n",
       "      <td>4</td>\n",
       "    </tr>\n",
       "    <tr>\n",
       "      <th>40333</th>\n",
       "      <td>55733</td>\n",
       "      <td>5</td>\n",
       "    </tr>\n",
       "    <tr>\n",
       "      <th>40334</th>\n",
       "      <td>55733</td>\n",
       "      <td>10</td>\n",
       "    </tr>\n",
       "    <tr>\n",
       "      <th>40335</th>\n",
       "      <td>55734</td>\n",
       "      <td>20</td>\n",
       "    </tr>\n",
       "    <tr>\n",
       "      <th>40336</th>\n",
       "      <td>55735</td>\n",
       "      <td>20</td>\n",
       "    </tr>\n",
       "  </tbody>\n",
       "</table>\n",
       "<p>40337 rows × 2 columns</p>\n",
       "</div>"
      ],
      "text/plain": [
       "       ID_ANIME  ID_GENRE\n",
       "0             7         0\n",
       "1             7         1\n",
       "2             7         2\n",
       "3             7         3\n",
       "4             8         3\n",
       "...         ...       ...\n",
       "40332     55733         4\n",
       "40333     55733         5\n",
       "40334     55733        10\n",
       "40335     55734        20\n",
       "40336     55735        20\n",
       "\n",
       "[40337 rows x 2 columns]"
      ]
     },
     "execution_count": 34,
     "metadata": {},
     "output_type": "execute_result"
    }
   ],
   "source": [
    "anime_gerne"
   ]
  },
  {
   "cell_type": "code",
   "execution_count": 35,
   "metadata": {},
   "outputs": [
    {
     "data": {
      "text/html": [
       "<div>\n",
       "<style scoped>\n",
       "    .dataframe tbody tr th:only-of-type {\n",
       "        vertical-align: middle;\n",
       "    }\n",
       "\n",
       "    .dataframe tbody tr th {\n",
       "        vertical-align: top;\n",
       "    }\n",
       "\n",
       "    .dataframe thead th {\n",
       "        text-align: right;\n",
       "    }\n",
       "</style>\n",
       "<table border=\"1\" class=\"dataframe\">\n",
       "  <thead>\n",
       "    <tr style=\"text-align: right;\">\n",
       "      <th></th>\n",
       "      <th>ID_GENRE</th>\n",
       "      <th>GENRE</th>\n",
       "    </tr>\n",
       "  </thead>\n",
       "  <tbody>\n",
       "    <tr>\n",
       "      <th>0</th>\n",
       "      <td>0</td>\n",
       "      <td>Action</td>\n",
       "    </tr>\n",
       "    <tr>\n",
       "      <th>1</th>\n",
       "      <td>1</td>\n",
       "      <td>Drama</td>\n",
       "    </tr>\n",
       "    <tr>\n",
       "      <th>2</th>\n",
       "      <td>2</td>\n",
       "      <td>Mystery</td>\n",
       "    </tr>\n",
       "    <tr>\n",
       "      <th>3</th>\n",
       "      <td>3</td>\n",
       "      <td>Supernatural</td>\n",
       "    </tr>\n",
       "    <tr>\n",
       "      <th>4</th>\n",
       "      <td>4</td>\n",
       "      <td>Adventure</td>\n",
       "    </tr>\n",
       "    <tr>\n",
       "      <th>5</th>\n",
       "      <td>5</td>\n",
       "      <td>Fantasy</td>\n",
       "    </tr>\n",
       "    <tr>\n",
       "      <th>6</th>\n",
       "      <td>6</td>\n",
       "      <td>Comedy</td>\n",
       "    </tr>\n",
       "    <tr>\n",
       "      <th>7</th>\n",
       "      <td>7</td>\n",
       "      <td>Romance</td>\n",
       "    </tr>\n",
       "    <tr>\n",
       "      <th>8</th>\n",
       "      <td>8</td>\n",
       "      <td>Slice of Life</td>\n",
       "    </tr>\n",
       "    <tr>\n",
       "      <th>9</th>\n",
       "      <td>9</td>\n",
       "      <td>Sports</td>\n",
       "    </tr>\n",
       "    <tr>\n",
       "      <th>10</th>\n",
       "      <td>10</td>\n",
       "      <td>Sci-Fi</td>\n",
       "    </tr>\n",
       "    <tr>\n",
       "      <th>11</th>\n",
       "      <td>11</td>\n",
       "      <td>Ecchi</td>\n",
       "    </tr>\n",
       "    <tr>\n",
       "      <th>12</th>\n",
       "      <td>12</td>\n",
       "      <td>Gourmet</td>\n",
       "    </tr>\n",
       "    <tr>\n",
       "      <th>13</th>\n",
       "      <td>13</td>\n",
       "      <td>Award Winning</td>\n",
       "    </tr>\n",
       "    <tr>\n",
       "      <th>14</th>\n",
       "      <td>14</td>\n",
       "      <td>Horror</td>\n",
       "    </tr>\n",
       "    <tr>\n",
       "      <th>15</th>\n",
       "      <td>15</td>\n",
       "      <td>Girls Love</td>\n",
       "    </tr>\n",
       "    <tr>\n",
       "      <th>16</th>\n",
       "      <td>16</td>\n",
       "      <td>Suspense</td>\n",
       "    </tr>\n",
       "    <tr>\n",
       "      <th>17</th>\n",
       "      <td>17</td>\n",
       "      <td>Boys Love</td>\n",
       "    </tr>\n",
       "    <tr>\n",
       "      <th>18</th>\n",
       "      <td>18</td>\n",
       "      <td>Hentai</td>\n",
       "    </tr>\n",
       "    <tr>\n",
       "      <th>19</th>\n",
       "      <td>19</td>\n",
       "      <td>Avant Garde</td>\n",
       "    </tr>\n",
       "    <tr>\n",
       "      <th>20</th>\n",
       "      <td>20</td>\n",
       "      <td>UNKNOWN</td>\n",
       "    </tr>\n",
       "    <tr>\n",
       "      <th>21</th>\n",
       "      <td>21</td>\n",
       "      <td>Erotica</td>\n",
       "    </tr>\n",
       "  </tbody>\n",
       "</table>\n",
       "</div>"
      ],
      "text/plain": [
       "    ID_GENRE          GENRE\n",
       "0          0         Action\n",
       "1          1          Drama\n",
       "2          2        Mystery\n",
       "3          3   Supernatural\n",
       "4          4      Adventure\n",
       "5          5        Fantasy\n",
       "6          6         Comedy\n",
       "7          7        Romance\n",
       "8          8  Slice of Life\n",
       "9          9         Sports\n",
       "10        10         Sci-Fi\n",
       "11        11          Ecchi\n",
       "12        12        Gourmet\n",
       "13        13  Award Winning\n",
       "14        14         Horror\n",
       "15        15     Girls Love\n",
       "16        16       Suspense\n",
       "17        17      Boys Love\n",
       "18        18         Hentai\n",
       "19        19    Avant Garde\n",
       "20        20        UNKNOWN\n",
       "21        21        Erotica"
      ]
     },
     "execution_count": 35,
     "metadata": {},
     "output_type": "execute_result"
    }
   ],
   "source": [
    "genre"
   ]
  },
  {
   "cell_type": "code",
   "execution_count": 36,
   "metadata": {},
   "outputs": [],
   "source": [
    "# Realizar los joins utilizando join\n",
    "hechos = hechos.join(anime_gerne, how='left', lsuffix='_hechos', rsuffix='_anime_genre')\n"
   ]
  },
  {
   "cell_type": "code",
   "execution_count": 39,
   "metadata": {},
   "outputs": [],
   "source": [
    "hechos = hechos.drop(columns=[\"ID_ANIME\"])"
   ]
  },
  {
   "cell_type": "code",
   "execution_count": 42,
   "metadata": {},
   "outputs": [
    {
     "data": {
      "text/html": [
       "<div>\n",
       "<style scoped>\n",
       "    .dataframe tbody tr th:only-of-type {\n",
       "        vertical-align: middle;\n",
       "    }\n",
       "\n",
       "    .dataframe tbody tr th {\n",
       "        vertical-align: top;\n",
       "    }\n",
       "\n",
       "    .dataframe thead th {\n",
       "        text-align: right;\n",
       "    }\n",
       "</style>\n",
       "<table border=\"1\" class=\"dataframe\">\n",
       "  <thead>\n",
       "    <tr style=\"text-align: right;\">\n",
       "      <th></th>\n",
       "      <th>ID_ANIME</th>\n",
       "      <th>ID_PRODUCER</th>\n",
       "    </tr>\n",
       "  </thead>\n",
       "  <tbody>\n",
       "    <tr>\n",
       "      <th>0</th>\n",
       "      <td>7</td>\n",
       "      <td>0</td>\n",
       "    </tr>\n",
       "    <tr>\n",
       "      <th>1</th>\n",
       "      <td>7</td>\n",
       "      <td>1</td>\n",
       "    </tr>\n",
       "    <tr>\n",
       "      <th>2</th>\n",
       "      <td>7</td>\n",
       "      <td>2</td>\n",
       "    </tr>\n",
       "    <tr>\n",
       "      <th>3</th>\n",
       "      <td>7</td>\n",
       "      <td>3</td>\n",
       "    </tr>\n",
       "    <tr>\n",
       "      <th>4</th>\n",
       "      <td>8</td>\n",
       "      <td>1</td>\n",
       "    </tr>\n",
       "    <tr>\n",
       "      <th>...</th>\n",
       "      <td>...</td>\n",
       "      <td>...</td>\n",
       "    </tr>\n",
       "    <tr>\n",
       "      <th>34914</th>\n",
       "      <td>55731</td>\n",
       "      <td>9</td>\n",
       "    </tr>\n",
       "    <tr>\n",
       "      <th>34915</th>\n",
       "      <td>55732</td>\n",
       "      <td>9</td>\n",
       "    </tr>\n",
       "    <tr>\n",
       "      <th>34916</th>\n",
       "      <td>55733</td>\n",
       "      <td>9</td>\n",
       "    </tr>\n",
       "    <tr>\n",
       "      <th>34917</th>\n",
       "      <td>55734</td>\n",
       "      <td>9</td>\n",
       "    </tr>\n",
       "    <tr>\n",
       "      <th>34918</th>\n",
       "      <td>55735</td>\n",
       "      <td>9</td>\n",
       "    </tr>\n",
       "  </tbody>\n",
       "</table>\n",
       "<p>34919 rows × 2 columns</p>\n",
       "</div>"
      ],
      "text/plain": [
       "       ID_ANIME  ID_PRODUCER\n",
       "0             7            0\n",
       "1             7            1\n",
       "2             7            2\n",
       "3             7            3\n",
       "4             8            1\n",
       "...         ...          ...\n",
       "34914     55731            9\n",
       "34915     55732            9\n",
       "34916     55733            9\n",
       "34917     55734            9\n",
       "34918     55735            9\n",
       "\n",
       "[34919 rows x 2 columns]"
      ]
     },
     "execution_count": 42,
     "metadata": {},
     "output_type": "execute_result"
    }
   ],
   "source": [
    "anime_productors = pd.read_csv(\"../Data/ANIME_PRODUCTORS.csv\")\n",
    "anime_productors"
   ]
  },
  {
   "cell_type": "code",
   "execution_count": 43,
   "metadata": {},
   "outputs": [],
   "source": [
    "# Realizar los joins utilizando join\n",
    "hechos = hechos.join(anime_productors, how='left', lsuffix='_hechos', rsuffix='_anime_genre')\n"
   ]
  },
  {
   "cell_type": "code",
   "execution_count": 47,
   "metadata": {},
   "outputs": [],
   "source": [
    "hechos.to_csv(\"./tables_olap/HECHOS.csv\", index=False)"
   ]
  }
 ],
 "metadata": {
  "kernelspec": {
   "display_name": "Python 3",
   "language": "python",
   "name": "python3"
  },
  "language_info": {
   "codemirror_mode": {
    "name": "ipython",
    "version": 3
   },
   "file_extension": ".py",
   "mimetype": "text/x-python",
   "name": "python",
   "nbconvert_exporter": "python",
   "pygments_lexer": "ipython3",
   "version": "3.11.8"
  }
 },
 "nbformat": 4,
 "nbformat_minor": 2
}
