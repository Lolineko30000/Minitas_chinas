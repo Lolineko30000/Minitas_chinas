{
 "cells": [
  {
   "cell_type": "markdown",
   "metadata": {},
   "source": [
    "# Librerías"
   ]
  },
  {
   "cell_type": "code",
   "execution_count": 1,
   "metadata": {},
   "outputs": [],
   "source": [
    "import pandas as pd\n",
    "import re\n",
    "from datetime import datetime\n",
    "\n",
    "# visualización\n",
    "import plotly.express as px\n",
    "from plotly.subplots import make_subplots\n",
    "import plotly.graph_objects as go\n",
    "\n",
    "from IPython.display import Image"
   ]
  },
  {
   "cell_type": "markdown",
   "metadata": {},
   "source": [
    "## Funciones útiles"
   ]
  },
  {
   "cell_type": "code",
   "execution_count": 2,
   "metadata": {},
   "outputs": [],
   "source": [
    "def make_specs( rows : int, cols : int, n : int) -> dict:\n",
    "    \"\"\"Makes the list of dictionaries to set the layout for the function make_subplots, especially for primes and specific grids.\n",
    "\n",
    "    Args:\n",
    "        rows (int): Number of rows for the grid\n",
    "        cols (int): Number of columns for the grid\n",
    "        n (int): Total number of figures\n",
    "\n",
    "    Returns:\n",
    "        dict: Grid for plotting\n",
    "    \"\"\"\n",
    "    specs = []\n",
    "    for i in range(rows):\n",
    "        auxi = []\n",
    "        for j in range(cols):\n",
    "            if i*cols + j <= n:\n",
    "                auxi.append({})\n",
    "            else:\n",
    "                auxi.append(None)\n",
    "        specs.append(auxi)\n",
    "    return specs"
   ]
  },
  {
   "cell_type": "code",
   "execution_count": 3,
   "metadata": {},
   "outputs": [],
   "source": [
    "def hist_matrix(df : pd.DataFrame, columns : list = None, rows : int = None, cols : int = None) -> None:\n",
    "    \"\"\"Makes a matrix of histograms for each column of a pd.DataFrame\n",
    "\n",
    "    Args:\n",
    "        df (pd.DataFrame): Data to plot\n",
    "        columns (list, optional): Columns to include in the matrix. Defaults to None.\n",
    "        rows (int, optional): Number of rows for the matrix. Defaults to None.\n",
    "        cols (int, optional): Number of columns for the matrix. Defaults to None.\n",
    "    \"\"\"\n",
    "    if columns == None:\n",
    "        columns = df.columns\n",
    "    \n",
    "    n = len(columns)\n",
    "\n",
    "    if rows == None:\n",
    "        rows = int(n**0.5)\n",
    "    if cols == None:\n",
    "        cols = int(n/rows + 0.99)\n",
    "    \n",
    "    if rows*cols < n:\n",
    "        cols = int(n/rows + 0.99)\n",
    "\n",
    "    specs = make_specs(rows, cols, n)\n",
    "    fig1 = make_subplots(rows = rows, cols = cols,\n",
    "                        specs= specs, subplot_titles= columns)\n",
    "\n",
    "    for i, col in enumerate(columns):\n",
    "        row = i//cols +1\n",
    "        colum = i%cols + 1\n",
    "        fig1.add_trace(go.Histogram(x=df[col], name=col, ) , row=row, col=colum)\n",
    "\n",
    "    fig1.update_layout(title_text='Histogramas', showlegend=False)\n",
    "    \n",
    "    return fig1"
   ]
  },
  {
   "cell_type": "code",
   "execution_count": 4,
   "metadata": {},
   "outputs": [],
   "source": [
    "def box_matrix(df : pd.DataFrame, columns : list = None, rows : int = None, cols : int = None) -> None:\n",
    "    \"\"\"Makes a matrix of boxes for each column of a pd.DataFrame\n",
    "\n",
    "    Args:\n",
    "        df (pd.DataFrame): Data to plot\n",
    "        columns (list, optional): Columns to include in the matrix. Defaults to None.\n",
    "        rows (int, optional): Number of rows for the matrix. Defaults to None.\n",
    "        cols (int, optional): Number of columns for the matrix. Defaults to None.\n",
    "    \"\"\"\n",
    "    if columns == None:\n",
    "        columns = df.columns\n",
    "    \n",
    "    n = len(columns)\n",
    "\n",
    "    if rows == None:\n",
    "        rows = int(n**0.5)\n",
    "    if cols == None:\n",
    "        cols = int(n/rows + 0.99)\n",
    "    \n",
    "    if rows*cols < n:\n",
    "        cols = int(n/rows + 0.99)\n",
    "\n",
    "    specs = make_specs(rows, cols, n)\n",
    "    fig1 = make_subplots(rows = rows, cols = cols,\n",
    "                        specs= specs, subplot_titles= columns)\n",
    "\n",
    "    for i, col in enumerate(columns):\n",
    "        row = i//cols +1\n",
    "        colum = i%cols + 1\n",
    "        fig1.add_trace(go.Box(x=df[col], name=col, ) , row=row, col=colum)\n",
    "\n",
    "    fig1.update_layout(title_text='Cajas', showlegend=False)\n",
    "    \n",
    "    return fig1"
   ]
  },
  {
   "cell_type": "code",
   "execution_count": 5,
   "metadata": {},
   "outputs": [],
   "source": [
    "def remove_outliers_percentile(df: pd.DataFrame, quantile: float = 0.99, \n",
    "                    columns: list = None, upper: bool = True) -> pd.DataFrame:\n",
    "    \"\"\"REmoves outliers from a Dataframe\n",
    "\n",
    "    Args:\n",
    "        df (pd.DataFrame): _description_\n",
    "        quantile (float, optional): _description_. Defaults to 0.99.\n",
    "        columns (list, optional): _description_. Defaults to None.\n",
    "        upper (bool, optional): _description_. Defaults to True.\n",
    "\n",
    "    Returns:\n",
    "        pd.DataFrame: _description_\n",
    "    \"\"\"\n",
    "    if columns == None:\n",
    "        columns = df.columns\n",
    "    \n",
    "    limits = df[columns].quantile(quantile)\n",
    "\n",
    "    sign = 1\n",
    "    if not upper:\n",
    "        sign = -1\n",
    "        \n",
    "    for col in columns:\n",
    "        df = df[sign*df[col] <= sign*limits[col]]\n",
    "        \n",
    "    return df"
   ]
  },
  {
   "cell_type": "markdown",
   "metadata": {},
   "source": [
    "# Carga de datos"
   ]
  },
  {
   "cell_type": "code",
   "execution_count": 6,
   "metadata": {},
   "outputs": [],
   "source": [
    "df_users = pd.read_csv('Datos_Enriquecidos/user_det.csv')"
   ]
  },
  {
   "cell_type": "code",
   "execution_count": 7,
   "metadata": {},
   "outputs": [],
   "source": [
    "#df_users"
   ]
  },
  {
   "cell_type": "code",
   "execution_count": 8,
   "metadata": {},
   "outputs": [],
   "source": [
    "#df_users.dtypes"
   ]
  },
  {
   "cell_type": "markdown",
   "metadata": {},
   "source": [
    "## Nulos"
   ]
  },
  {
   "cell_type": "code",
   "execution_count": 9,
   "metadata": {},
   "outputs": [],
   "source": [
    "#df_users.isnull().mean()"
   ]
  },
  {
   "cell_type": "code",
   "execution_count": 10,
   "metadata": {},
   "outputs": [],
   "source": [
    "old_shape = df_users.shape[0]"
   ]
  },
  {
   "cell_type": "code",
   "execution_count": 11,
   "metadata": {},
   "outputs": [],
   "source": [
    "df_users = df_users.dropna(subset=['Days Watched', 'Username'])"
   ]
  },
  {
   "cell_type": "code",
   "execution_count": 12,
   "metadata": {},
   "outputs": [
    {
     "data": {
      "text/plain": [
       "0.9995967609653679"
      ]
     },
     "execution_count": 12,
     "metadata": {},
     "output_type": "execute_result"
    }
   ],
   "source": [
    "df_users.shape[0]/old_shape"
   ]
  },
  {
   "cell_type": "code",
   "execution_count": 13,
   "metadata": {},
   "outputs": [],
   "source": [
    "#df_users.isnull().mean()"
   ]
  },
  {
   "cell_type": "markdown",
   "metadata": {},
   "source": [
    "## Borrar columnas altamente vacías"
   ]
  },
  {
   "cell_type": "code",
   "execution_count": 14,
   "metadata": {},
   "outputs": [],
   "source": [
    "df_users = df_users.drop(['Gender', 'Birthday', 'Location'], axis=1)"
   ]
  },
  {
   "cell_type": "markdown",
   "metadata": {},
   "source": [
    "# EDA"
   ]
  },
  {
   "cell_type": "markdown",
   "metadata": {},
   "source": [
    "## Joined"
   ]
  },
  {
   "cell_type": "code",
   "execution_count": 15,
   "metadata": {},
   "outputs": [],
   "source": [
    "df_users['Joined'] = pd.to_datetime(df_users['Joined'], errors='coerce')"
   ]
  },
  {
   "cell_type": "code",
   "execution_count": 16,
   "metadata": {},
   "outputs": [],
   "source": [
    "#df_users.dtypes"
   ]
  },
  {
   "cell_type": "markdown",
   "metadata": {},
   "source": [
    "# Outliers"
   ]
  },
  {
   "cell_type": "code",
   "execution_count": 17,
   "metadata": {},
   "outputs": [],
   "source": [
    "#df_users.describe()"
   ]
  },
  {
   "cell_type": "code",
   "execution_count": 18,
   "metadata": {},
   "outputs": [],
   "source": [
    "#df_users.columns"
   ]
  },
  {
   "cell_type": "code",
   "execution_count": 19,
   "metadata": {},
   "outputs": [],
   "source": [
    "users_ol = ['Days Watched', 'Mean Score',\n",
    "       'Watching', 'Completed', 'On Hold', 'Dropped', 'Plan to Watch',\n",
    "       'Total Entries', 'Rewatched', 'Episodes Watched']"
   ]
  },
  {
   "cell_type": "code",
   "execution_count": 20,
   "metadata": {},
   "outputs": [],
   "source": [
    "df_users = remove_outliers_percentile(df = df_users, columns = users_ol)"
   ]
  },
  {
   "cell_type": "code",
   "execution_count": 21,
   "metadata": {},
   "outputs": [],
   "source": [
    "#df_users.shape[0]/old_shape"
   ]
  },
  {
   "cell_type": "code",
   "execution_count": 22,
   "metadata": {},
   "outputs": [],
   "source": [
    "df_users.to_csv('Datos_Enriquecidos/users_limpios.csv')"
   ]
  },
  {
   "cell_type": "markdown",
   "metadata": {},
   "source": [
    "# Visualización"
   ]
  },
  {
   "cell_type": "markdown",
   "metadata": {},
   "source": [
    "## Estadísticos"
   ]
  },
  {
   "cell_type": "code",
   "execution_count": 23,
   "metadata": {},
   "outputs": [
    {
     "data": {
      "text/html": [
       "<div>\n",
       "<style scoped>\n",
       "    .dataframe tbody tr th:only-of-type {\n",
       "        vertical-align: middle;\n",
       "    }\n",
       "\n",
       "    .dataframe tbody tr th {\n",
       "        vertical-align: top;\n",
       "    }\n",
       "\n",
       "    .dataframe thead th {\n",
       "        text-align: right;\n",
       "    }\n",
       "</style>\n",
       "<table border=\"1\" class=\"dataframe\">\n",
       "  <thead>\n",
       "    <tr style=\"text-align: right;\">\n",
       "      <th></th>\n",
       "      <th>Mal ID</th>\n",
       "      <th>Days Watched</th>\n",
       "      <th>Mean Score</th>\n",
       "      <th>Watching</th>\n",
       "      <th>Completed</th>\n",
       "      <th>On Hold</th>\n",
       "      <th>Dropped</th>\n",
       "      <th>Plan to Watch</th>\n",
       "      <th>Total Entries</th>\n",
       "      <th>Rewatched</th>\n",
       "      <th>Episodes Watched</th>\n",
       "    </tr>\n",
       "  </thead>\n",
       "  <tbody>\n",
       "    <tr>\n",
       "      <th>count</th>\n",
       "      <td>6.976810e+05</td>\n",
       "      <td>697681.000000</td>\n",
       "      <td>697681.000000</td>\n",
       "      <td>697681.000000</td>\n",
       "      <td>697681.000000</td>\n",
       "      <td>697681.000000</td>\n",
       "      <td>697681.000000</td>\n",
       "      <td>697681.000000</td>\n",
       "      <td>697681.000000</td>\n",
       "      <td>697681.000000</td>\n",
       "      <td>697681.000000</td>\n",
       "    </tr>\n",
       "    <tr>\n",
       "      <th>mean</th>\n",
       "      <td>5.135915e+05</td>\n",
       "      <td>16.945238</td>\n",
       "      <td>3.789338</td>\n",
       "      <td>3.046216</td>\n",
       "      <td>42.643872</td>\n",
       "      <td>1.919502</td>\n",
       "      <td>2.399774</td>\n",
       "      <td>9.565577</td>\n",
       "      <td>59.576050</td>\n",
       "      <td>2.318841</td>\n",
       "      <td>1020.161529</td>\n",
       "    </tr>\n",
       "    <tr>\n",
       "      <th>std</th>\n",
       "      <td>3.638953e+05</td>\n",
       "      <td>33.136078</td>\n",
       "      <td>4.140274</td>\n",
       "      <td>6.757737</td>\n",
       "      <td>98.132612</td>\n",
       "      <td>5.750735</td>\n",
       "      <td>7.853171</td>\n",
       "      <td>28.842009</td>\n",
       "      <td>127.158801</td>\n",
       "      <td>8.595110</td>\n",
       "      <td>2002.094077</td>\n",
       "    </tr>\n",
       "    <tr>\n",
       "      <th>min</th>\n",
       "      <td>9.000000e+00</td>\n",
       "      <td>0.000000</td>\n",
       "      <td>0.000000</td>\n",
       "      <td>0.000000</td>\n",
       "      <td>0.000000</td>\n",
       "      <td>0.000000</td>\n",
       "      <td>0.000000</td>\n",
       "      <td>0.000000</td>\n",
       "      <td>0.000000</td>\n",
       "      <td>0.000000</td>\n",
       "      <td>0.000000</td>\n",
       "    </tr>\n",
       "    <tr>\n",
       "      <th>25%</th>\n",
       "      <td>2.117050e+05</td>\n",
       "      <td>0.000000</td>\n",
       "      <td>0.000000</td>\n",
       "      <td>0.000000</td>\n",
       "      <td>0.000000</td>\n",
       "      <td>0.000000</td>\n",
       "      <td>0.000000</td>\n",
       "      <td>0.000000</td>\n",
       "      <td>0.000000</td>\n",
       "      <td>0.000000</td>\n",
       "      <td>0.000000</td>\n",
       "    </tr>\n",
       "    <tr>\n",
       "      <th>50%</th>\n",
       "      <td>4.316960e+05</td>\n",
       "      <td>0.000000</td>\n",
       "      <td>0.000000</td>\n",
       "      <td>0.000000</td>\n",
       "      <td>0.000000</td>\n",
       "      <td>0.000000</td>\n",
       "      <td>0.000000</td>\n",
       "      <td>0.000000</td>\n",
       "      <td>1.000000</td>\n",
       "      <td>0.000000</td>\n",
       "      <td>0.000000</td>\n",
       "    </tr>\n",
       "    <tr>\n",
       "      <th>75%</th>\n",
       "      <td>7.911170e+05</td>\n",
       "      <td>19.100000</td>\n",
       "      <td>8.030000</td>\n",
       "      <td>3.000000</td>\n",
       "      <td>34.000000</td>\n",
       "      <td>0.000000</td>\n",
       "      <td>0.000000</td>\n",
       "      <td>3.000000</td>\n",
       "      <td>53.000000</td>\n",
       "      <td>0.000000</td>\n",
       "      <td>1140.000000</td>\n",
       "    </tr>\n",
       "    <tr>\n",
       "      <th>max</th>\n",
       "      <td>1.291097e+06</td>\n",
       "      <td>241.900000</td>\n",
       "      <td>10.000000</td>\n",
       "      <td>61.000000</td>\n",
       "      <td>840.000000</td>\n",
       "      <td>55.000000</td>\n",
       "      <td>80.000000</td>\n",
       "      <td>289.000000</td>\n",
       "      <td>1165.000000</td>\n",
       "      <td>88.000000</td>\n",
       "      <td>15442.000000</td>\n",
       "    </tr>\n",
       "  </tbody>\n",
       "</table>\n",
       "</div>"
      ],
      "text/plain": [
       "             Mal ID   Days Watched     Mean Score       Watching  \\\n",
       "count  6.976810e+05  697681.000000  697681.000000  697681.000000   \n",
       "mean   5.135915e+05      16.945238       3.789338       3.046216   \n",
       "std    3.638953e+05      33.136078       4.140274       6.757737   \n",
       "min    9.000000e+00       0.000000       0.000000       0.000000   \n",
       "25%    2.117050e+05       0.000000       0.000000       0.000000   \n",
       "50%    4.316960e+05       0.000000       0.000000       0.000000   \n",
       "75%    7.911170e+05      19.100000       8.030000       3.000000   \n",
       "max    1.291097e+06     241.900000      10.000000      61.000000   \n",
       "\n",
       "           Completed        On Hold        Dropped  Plan to Watch  \\\n",
       "count  697681.000000  697681.000000  697681.000000  697681.000000   \n",
       "mean       42.643872       1.919502       2.399774       9.565577   \n",
       "std        98.132612       5.750735       7.853171      28.842009   \n",
       "min         0.000000       0.000000       0.000000       0.000000   \n",
       "25%         0.000000       0.000000       0.000000       0.000000   \n",
       "50%         0.000000       0.000000       0.000000       0.000000   \n",
       "75%        34.000000       0.000000       0.000000       3.000000   \n",
       "max       840.000000      55.000000      80.000000     289.000000   \n",
       "\n",
       "       Total Entries      Rewatched  Episodes Watched  \n",
       "count  697681.000000  697681.000000     697681.000000  \n",
       "mean       59.576050       2.318841       1020.161529  \n",
       "std       127.158801       8.595110       2002.094077  \n",
       "min         0.000000       0.000000          0.000000  \n",
       "25%         0.000000       0.000000          0.000000  \n",
       "50%         1.000000       0.000000          0.000000  \n",
       "75%        53.000000       0.000000       1140.000000  \n",
       "max      1165.000000      88.000000      15442.000000  "
      ]
     },
     "execution_count": 23,
     "metadata": {},
     "output_type": "execute_result"
    }
   ],
   "source": [
    "df_users.describe()"
   ]
  },
  {
   "cell_type": "markdown",
   "metadata": {},
   "source": [
    "## Muestra representativa"
   ]
  },
  {
   "cell_type": "code",
   "execution_count": 28,
   "metadata": {},
   "outputs": [
    {
     "data": {
      "text/html": [
       "<div>\n",
       "<style scoped>\n",
       "    .dataframe tbody tr th:only-of-type {\n",
       "        vertical-align: middle;\n",
       "    }\n",
       "\n",
       "    .dataframe tbody tr th {\n",
       "        vertical-align: top;\n",
       "    }\n",
       "\n",
       "    .dataframe thead th {\n",
       "        text-align: right;\n",
       "    }\n",
       "</style>\n",
       "<table border=\"1\" class=\"dataframe\">\n",
       "  <thead>\n",
       "    <tr style=\"text-align: right;\">\n",
       "      <th></th>\n",
       "      <th>Mal ID</th>\n",
       "      <th>Days Watched</th>\n",
       "      <th>Mean Score</th>\n",
       "      <th>Watching</th>\n",
       "      <th>Completed</th>\n",
       "      <th>On Hold</th>\n",
       "      <th>Dropped</th>\n",
       "      <th>Plan to Watch</th>\n",
       "      <th>Total Entries</th>\n",
       "      <th>Rewatched</th>\n",
       "      <th>Episodes Watched</th>\n",
       "    </tr>\n",
       "  </thead>\n",
       "  <tbody>\n",
       "    <tr>\n",
       "      <th>count</th>\n",
       "      <td>6.980000e+02</td>\n",
       "      <td>698.000000</td>\n",
       "      <td>698.000000</td>\n",
       "      <td>698.000000</td>\n",
       "      <td>698.000000</td>\n",
       "      <td>698.000000</td>\n",
       "      <td>698.000000</td>\n",
       "      <td>698.000000</td>\n",
       "      <td>698.000000</td>\n",
       "      <td>698.000000</td>\n",
       "      <td>698.000000</td>\n",
       "    </tr>\n",
       "    <tr>\n",
       "      <th>mean</th>\n",
       "      <td>5.054846e+05</td>\n",
       "      <td>17.091691</td>\n",
       "      <td>3.909613</td>\n",
       "      <td>2.957020</td>\n",
       "      <td>42.133238</td>\n",
       "      <td>1.991404</td>\n",
       "      <td>2.053009</td>\n",
       "      <td>9.869628</td>\n",
       "      <td>59.004298</td>\n",
       "      <td>2.928367</td>\n",
       "      <td>1039.276504</td>\n",
       "    </tr>\n",
       "    <tr>\n",
       "      <th>std</th>\n",
       "      <td>3.569780e+05</td>\n",
       "      <td>34.008264</td>\n",
       "      <td>4.128399</td>\n",
       "      <td>6.439066</td>\n",
       "      <td>94.149280</td>\n",
       "      <td>5.987786</td>\n",
       "      <td>6.584735</td>\n",
       "      <td>31.683811</td>\n",
       "      <td>126.001509</td>\n",
       "      <td>10.258944</td>\n",
       "      <td>2045.403043</td>\n",
       "    </tr>\n",
       "    <tr>\n",
       "      <th>min</th>\n",
       "      <td>1.492000e+03</td>\n",
       "      <td>0.000000</td>\n",
       "      <td>0.000000</td>\n",
       "      <td>0.000000</td>\n",
       "      <td>0.000000</td>\n",
       "      <td>0.000000</td>\n",
       "      <td>0.000000</td>\n",
       "      <td>0.000000</td>\n",
       "      <td>0.000000</td>\n",
       "      <td>0.000000</td>\n",
       "      <td>0.000000</td>\n",
       "    </tr>\n",
       "    <tr>\n",
       "      <th>25%</th>\n",
       "      <td>2.144140e+05</td>\n",
       "      <td>0.000000</td>\n",
       "      <td>0.000000</td>\n",
       "      <td>0.000000</td>\n",
       "      <td>0.000000</td>\n",
       "      <td>0.000000</td>\n",
       "      <td>0.000000</td>\n",
       "      <td>0.000000</td>\n",
       "      <td>0.000000</td>\n",
       "      <td>0.000000</td>\n",
       "      <td>0.000000</td>\n",
       "    </tr>\n",
       "    <tr>\n",
       "      <th>50%</th>\n",
       "      <td>4.279700e+05</td>\n",
       "      <td>0.200000</td>\n",
       "      <td>0.000000</td>\n",
       "      <td>0.000000</td>\n",
       "      <td>0.000000</td>\n",
       "      <td>0.000000</td>\n",
       "      <td>0.000000</td>\n",
       "      <td>0.000000</td>\n",
       "      <td>1.000000</td>\n",
       "      <td>0.000000</td>\n",
       "      <td>12.000000</td>\n",
       "    </tr>\n",
       "    <tr>\n",
       "      <th>75%</th>\n",
       "      <td>7.751990e+05</td>\n",
       "      <td>19.175000</td>\n",
       "      <td>8.052500</td>\n",
       "      <td>3.000000</td>\n",
       "      <td>34.750000</td>\n",
       "      <td>0.000000</td>\n",
       "      <td>0.000000</td>\n",
       "      <td>2.750000</td>\n",
       "      <td>52.750000</td>\n",
       "      <td>0.000000</td>\n",
       "      <td>1148.500000</td>\n",
       "    </tr>\n",
       "    <tr>\n",
       "      <th>max</th>\n",
       "      <td>1.290541e+06</td>\n",
       "      <td>230.200000</td>\n",
       "      <td>10.000000</td>\n",
       "      <td>60.000000</td>\n",
       "      <td>744.000000</td>\n",
       "      <td>52.000000</td>\n",
       "      <td>73.000000</td>\n",
       "      <td>277.000000</td>\n",
       "      <td>918.000000</td>\n",
       "      <td>77.000000</td>\n",
       "      <td>13611.000000</td>\n",
       "    </tr>\n",
       "  </tbody>\n",
       "</table>\n",
       "</div>"
      ],
      "text/plain": [
       "             Mal ID  Days Watched  Mean Score    Watching   Completed  \\\n",
       "count  6.980000e+02    698.000000  698.000000  698.000000  698.000000   \n",
       "mean   5.054846e+05     17.091691    3.909613    2.957020   42.133238   \n",
       "std    3.569780e+05     34.008264    4.128399    6.439066   94.149280   \n",
       "min    1.492000e+03      0.000000    0.000000    0.000000    0.000000   \n",
       "25%    2.144140e+05      0.000000    0.000000    0.000000    0.000000   \n",
       "50%    4.279700e+05      0.200000    0.000000    0.000000    0.000000   \n",
       "75%    7.751990e+05     19.175000    8.052500    3.000000   34.750000   \n",
       "max    1.290541e+06    230.200000   10.000000   60.000000  744.000000   \n",
       "\n",
       "          On Hold     Dropped  Plan to Watch  Total Entries   Rewatched  \\\n",
       "count  698.000000  698.000000     698.000000     698.000000  698.000000   \n",
       "mean     1.991404    2.053009       9.869628      59.004298    2.928367   \n",
       "std      5.987786    6.584735      31.683811     126.001509   10.258944   \n",
       "min      0.000000    0.000000       0.000000       0.000000    0.000000   \n",
       "25%      0.000000    0.000000       0.000000       0.000000    0.000000   \n",
       "50%      0.000000    0.000000       0.000000       1.000000    0.000000   \n",
       "75%      0.000000    0.000000       2.750000      52.750000    0.000000   \n",
       "max     52.000000   73.000000     277.000000     918.000000   77.000000   \n",
       "\n",
       "       Episodes Watched  \n",
       "count        698.000000  \n",
       "mean        1039.276504  \n",
       "std         2045.403043  \n",
       "min            0.000000  \n",
       "25%            0.000000  \n",
       "50%           12.000000  \n",
       "75%         1148.500000  \n",
       "max        13611.000000  "
      ]
     },
     "execution_count": 28,
     "metadata": {},
     "output_type": "execute_result"
    }
   ],
   "source": [
    "sample = df_users.sample(frac=0.001)\n",
    "sample.describe()"
   ]
  },
  {
   "cell_type": "markdown",
   "metadata": {},
   "source": [
    "## Histogramas"
   ]
  },
  {
   "cell_type": "code",
   "execution_count": null,
   "metadata": {},
   "outputs": [],
   "source": [
    "#df_users.columns"
   ]
  },
  {
   "cell_type": "code",
   "execution_count": 30,
   "metadata": {},
   "outputs": [],
   "source": [
    "users_num = ['Days Watched', 'Mean Score',\n",
    "       'Watching', 'Completed', 'On Hold', 'Dropped', 'Plan to Watch',\n",
    "       'Total Entries', 'Rewatched', 'Episodes Watched']"
   ]
  },
  {
   "cell_type": "code",
   "execution_count": 31,
   "metadata": {},
   "outputs": [
    {
     "data": {
      "image/png": "[encoded data removed]",
      "text/plain": [
       "<IPython.core.display.Image object>"
      ]
     },
     "metadata": {},
     "output_type": "display_data"
    }
   ],
   "source": [
    "plot = hist_matrix(sample, users_num)\n",
    "img = Image(plot.to_image(format = \"png\"))\n",
    "display(img)"
   ]
  },
  {
   "cell_type": "markdown",
   "metadata": {},
   "source": [
    "## Cajas"
   ]
  },
  {
   "cell_type": "code",
   "execution_count": 32,
   "metadata": {},
   "outputs": [
    {
     "data": {
      "image/png": "[encoded data removed]",
      "text/plain": [
       "<IPython.core.display.Image object>"
      ]
     },
     "metadata": {},
     "output_type": "display_data"
    }
   ],
   "source": [
    "plot = box_matrix(sample, users_num)\n",
    "img = Image(plot.to_image(format = \"png\"))\n",
    "display(img)"
   ]
  }
 ],
 "metadata": {
  "kernelspec": {
   "display_name": "Python",
   "language": "python",
   "name": "python3"
  },
  "language_info": {
   "codemirror_mode": {
    "name": "ipython",
    "version": 3
   },
   "file_extension": ".py",
   "mimetype": "text/x-python",
   "name": "python",
   "nbconvert_exporter": "python",
   "pygments_lexer": "ipython3",
   "version": "3.11.8"
  }
 },
 "nbformat": 4,
 "nbformat_minor": 2
}
